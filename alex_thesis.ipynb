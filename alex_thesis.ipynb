{
 "cells": [
  {
   "cell_type": "code",
   "execution_count": 1,
   "metadata": {},
   "outputs": [
    {
     "name": "stderr",
     "output_type": "stream",
     "text": [
      "── Attaching packages ─────────────────────────────────────── tidyverse 1.2.1 ──\n",
      "✔ ggplot2 2.2.1.9000     ✔ purrr   0.2.5     \n",
      "✔ tibble  2.1.1          ✔ dplyr   0.8.0.1   \n",
      "✔ tidyr   0.8.0          ✔ stringr 1.3.1     \n",
      "✔ readr   1.1.1          ✔ forcats 0.3.0     \n",
      "── Conflicts ────────────────────────────────────────── tidyverse_conflicts() ──\n",
      "✖ dplyr::filter() masks stats::filter()\n",
      "✖ dplyr::lag()    masks stats::lag()\n"
     ]
    }
   ],
   "source": [
    "# load the library tidyverse\n",
    "library(tidyverse)"
   ]
  },
  {
   "cell_type": "code",
   "execution_count": 6,
   "metadata": {},
   "outputs": [
    {
     "name": "stderr",
     "output_type": "stream",
     "text": [
      "Parsed with column specification:\n",
      "cols(\n",
      "  Fac = col_character(),\n",
      "  B_A = col_character(),\n",
      "  Date = col_character(),\n",
      "  Care_Level = col_character(),\n",
      "  Wrong_Resident = col_integer(),\n",
      "  Wrong_Dose = col_integer(),\n",
      "  Wrong_Time = col_integer(),\n",
      "  Wrong_Day = col_integer(),\n",
      "  Pill_Found = col_integer(),\n",
      "  Not_Given = col_integer(),\n",
      "  Med_React = col_integer(),\n",
      "  Other = col_integer()\n",
      ")\n"
     ]
    },
    {
     "data": {
      "text/html": [
       "<table>\n",
       "<thead><tr><th scope=col>Fac</th><th scope=col>B_A</th><th scope=col>Date</th><th scope=col>Care_Level</th><th scope=col>Wrong_Resident</th><th scope=col>Wrong_Dose</th><th scope=col>Wrong_Time</th><th scope=col>Wrong_Day</th><th scope=col>Pill_Found</th><th scope=col>Not_Given</th><th scope=col>Med_React</th><th scope=col>Other</th></tr></thead>\n",
       "<tbody>\n",
       "\t<tr><td>D1      </td><td>Before  </td><td>Jan-16  </td><td>Dementia</td><td>0       </td><td>0       </td><td>0       </td><td>0       </td><td>0       </td><td>0       </td><td>0       </td><td>0       </td></tr>\n",
       "\t<tr><td>D1      </td><td>Before  </td><td>Feb-16  </td><td>Dementia</td><td>0       </td><td>0       </td><td>0       </td><td>0       </td><td>0       </td><td>0       </td><td>0       </td><td>0       </td></tr>\n",
       "\t<tr><td>D1      </td><td>Before  </td><td>Mar-16  </td><td>Dementia</td><td>0       </td><td>0       </td><td>0       </td><td>0       </td><td>0       </td><td>0       </td><td>0       </td><td>0       </td></tr>\n",
       "\t<tr><td>D1      </td><td>Before  </td><td>Apr-16  </td><td>Dementia</td><td>0       </td><td>0       </td><td>0       </td><td>0       </td><td>0       </td><td>0       </td><td>0       </td><td>0       </td></tr>\n",
       "\t<tr><td>D1      </td><td>Before  </td><td>May-16  </td><td>Dementia</td><td>0       </td><td>1       </td><td>0       </td><td>0       </td><td>0       </td><td>0       </td><td>0       </td><td>0       </td></tr>\n",
       "\t<tr><td>D1      </td><td>Before  </td><td>Jun-16  </td><td>Dementia</td><td>0       </td><td>0       </td><td>1       </td><td>0       </td><td>0       </td><td>0       </td><td>0       </td><td>0       </td></tr>\n",
       "</tbody>\n",
       "</table>\n"
      ],
      "text/latex": [
       "\\begin{tabular}{r|llllllllllll}\n",
       " Fac & B\\_A & Date & Care\\_Level & Wrong\\_Resident & Wrong\\_Dose & Wrong\\_Time & Wrong\\_Day & Pill\\_Found & Not\\_Given & Med\\_React & Other\\\\\n",
       "\\hline\n",
       "\t D1       & Before   & Jan-16   & Dementia & 0        & 0        & 0        & 0        & 0        & 0        & 0        & 0       \\\\\n",
       "\t D1       & Before   & Feb-16   & Dementia & 0        & 0        & 0        & 0        & 0        & 0        & 0        & 0       \\\\\n",
       "\t D1       & Before   & Mar-16   & Dementia & 0        & 0        & 0        & 0        & 0        & 0        & 0        & 0       \\\\\n",
       "\t D1       & Before   & Apr-16   & Dementia & 0        & 0        & 0        & 0        & 0        & 0        & 0        & 0       \\\\\n",
       "\t D1       & Before   & May-16   & Dementia & 0        & 1        & 0        & 0        & 0        & 0        & 0        & 0       \\\\\n",
       "\t D1       & Before   & Jun-16   & Dementia & 0        & 0        & 1        & 0        & 0        & 0        & 0        & 0       \\\\\n",
       "\\end{tabular}\n"
      ],
      "text/markdown": [
       "\n",
       "Fac | B_A | Date | Care_Level | Wrong_Resident | Wrong_Dose | Wrong_Time | Wrong_Day | Pill_Found | Not_Given | Med_React | Other | \n",
       "|---|---|---|---|---|---|\n",
       "| D1       | Before   | Jan-16   | Dementia | 0        | 0        | 0        | 0        | 0        | 0        | 0        | 0        | \n",
       "| D1       | Before   | Feb-16   | Dementia | 0        | 0        | 0        | 0        | 0        | 0        | 0        | 0        | \n",
       "| D1       | Before   | Mar-16   | Dementia | 0        | 0        | 0        | 0        | 0        | 0        | 0        | 0        | \n",
       "| D1       | Before   | Apr-16   | Dementia | 0        | 0        | 0        | 0        | 0        | 0        | 0        | 0        | \n",
       "| D1       | Before   | May-16   | Dementia | 0        | 1        | 0        | 0        | 0        | 0        | 0        | 0        | \n",
       "| D1       | Before   | Jun-16   | Dementia | 0        | 0        | 1        | 0        | 0        | 0        | 0        | 0        | \n",
       "\n",
       "\n"
      ],
      "text/plain": [
       "  Fac B_A    Date   Care_Level Wrong_Resident Wrong_Dose Wrong_Time Wrong_Day\n",
       "1 D1  Before Jan-16 Dementia   0              0          0          0        \n",
       "2 D1  Before Feb-16 Dementia   0              0          0          0        \n",
       "3 D1  Before Mar-16 Dementia   0              0          0          0        \n",
       "4 D1  Before Apr-16 Dementia   0              0          0          0        \n",
       "5 D1  Before May-16 Dementia   0              1          0          0        \n",
       "6 D1  Before Jun-16 Dementia   0              0          1          0        \n",
       "  Pill_Found Not_Given Med_React Other\n",
       "1 0          0         0         0    \n",
       "2 0          0         0         0    \n",
       "3 0          0         0         0    \n",
       "4 0          0         0         0    \n",
       "5 0          0         0         0    \n",
       "6 0          0         0         0    "
      ]
     },
     "metadata": {},
     "output_type": "display_data"
    },
    {
     "name": "stderr",
     "output_type": "stream",
     "text": [
      "Parsed with column specification:\n",
      "cols(\n",
      "  Fac = col_character(),\n",
      "  B_A = col_character(),\n",
      "  Date = col_character(),\n",
      "  MAE = col_integer(),\n",
      "  OBR = col_integer(),\n",
      "  `Care Level` = col_character()\n",
      ")\n"
     ]
    },
    {
     "data": {
      "text/html": [
       "<table>\n",
       "<thead><tr><th scope=col>Fac</th><th scope=col>B_A</th><th scope=col>Date</th><th scope=col>MAE</th><th scope=col>OBR</th><th scope=col>Care Level</th></tr></thead>\n",
       "<tbody>\n",
       "\t<tr><td>D1      </td><td>Before  </td><td>Jan-16  </td><td>0       </td><td>1171    </td><td>Dementia</td></tr>\n",
       "\t<tr><td>D1      </td><td>Before  </td><td>Feb-16  </td><td>0       </td><td>1115    </td><td>Dementia</td></tr>\n",
       "\t<tr><td>D1      </td><td>Before  </td><td>Mar-16  </td><td>0       </td><td>1175    </td><td>Dementia</td></tr>\n",
       "\t<tr><td>D1      </td><td>Before  </td><td>Apr-16  </td><td>0       </td><td>1176    </td><td>Dementia</td></tr>\n",
       "\t<tr><td>D1      </td><td>Before  </td><td>May-16  </td><td>1       </td><td>1134    </td><td>Dementia</td></tr>\n",
       "\t<tr><td>D1      </td><td>Before  </td><td>Jun-16  </td><td>1       </td><td>1079    </td><td>Dementia</td></tr>\n",
       "</tbody>\n",
       "</table>\n"
      ],
      "text/latex": [
       "\\begin{tabular}{r|llllll}\n",
       " Fac & B\\_A & Date & MAE & OBR & Care Level\\\\\n",
       "\\hline\n",
       "\t D1       & Before   & Jan-16   & 0        & 1171     & Dementia\\\\\n",
       "\t D1       & Before   & Feb-16   & 0        & 1115     & Dementia\\\\\n",
       "\t D1       & Before   & Mar-16   & 0        & 1175     & Dementia\\\\\n",
       "\t D1       & Before   & Apr-16   & 0        & 1176     & Dementia\\\\\n",
       "\t D1       & Before   & May-16   & 1        & 1134     & Dementia\\\\\n",
       "\t D1       & Before   & Jun-16   & 1        & 1079     & Dementia\\\\\n",
       "\\end{tabular}\n"
      ],
      "text/markdown": [
       "\n",
       "Fac | B_A | Date | MAE | OBR | Care Level | \n",
       "|---|---|---|---|---|---|\n",
       "| D1       | Before   | Jan-16   | 0        | 1171     | Dementia | \n",
       "| D1       | Before   | Feb-16   | 0        | 1115     | Dementia | \n",
       "| D1       | Before   | Mar-16   | 0        | 1175     | Dementia | \n",
       "| D1       | Before   | Apr-16   | 0        | 1176     | Dementia | \n",
       "| D1       | Before   | May-16   | 1        | 1134     | Dementia | \n",
       "| D1       | Before   | Jun-16   | 1        | 1079     | Dementia | \n",
       "\n",
       "\n"
      ],
      "text/plain": [
       "  Fac B_A    Date   MAE OBR  Care Level\n",
       "1 D1  Before Jan-16 0   1171 Dementia  \n",
       "2 D1  Before Feb-16 0   1115 Dementia  \n",
       "3 D1  Before Mar-16 0   1175 Dementia  \n",
       "4 D1  Before Apr-16 0   1176 Dementia  \n",
       "5 D1  Before May-16 1   1134 Dementia  \n",
       "6 D1  Before Jun-16 1   1079 Dementia  "
      ]
     },
     "metadata": {},
     "output_type": "display_data"
    }
   ],
   "source": [
    "# read the data sets\n",
    "errtypes = read_csv('Err_Types.csv') # the data on the types of errors\n",
    "head(errtypes)\n",
    "maedata = read_csv('MAE_Data.csv') # the data on the medication administration errors totalled\n",
    "head(maedata) # view the data"
   ]
  },
  {
   "cell_type": "code",
   "execution_count": 10,
   "metadata": {},
   "outputs": [
    {
     "data": {
      "text/html": [
       "<table>\n",
       "<thead><tr><th scope=col>Fac</th><th scope=col>n</th></tr></thead>\n",
       "<tbody>\n",
       "\t<tr><td>D1</td><td>33</td></tr>\n",
       "\t<tr><td>D2</td><td>33</td></tr>\n",
       "\t<tr><td>D3</td><td>33</td></tr>\n",
       "\t<tr><td>D4</td><td>33</td></tr>\n",
       "\t<tr><td>D5</td><td>33</td></tr>\n",
       "\t<tr><td>D6</td><td>33</td></tr>\n",
       "\t<tr><td>I1</td><td>33</td></tr>\n",
       "\t<tr><td>R1</td><td>33</td></tr>\n",
       "\t<tr><td>R2</td><td>33</td></tr>\n",
       "</tbody>\n",
       "</table>\n"
      ],
      "text/latex": [
       "\\begin{tabular}{r|ll}\n",
       " Fac & n\\\\\n",
       "\\hline\n",
       "\t D1 & 33\\\\\n",
       "\t D2 & 33\\\\\n",
       "\t D3 & 33\\\\\n",
       "\t D4 & 33\\\\\n",
       "\t D5 & 33\\\\\n",
       "\t D6 & 33\\\\\n",
       "\t I1 & 33\\\\\n",
       "\t R1 & 33\\\\\n",
       "\t R2 & 33\\\\\n",
       "\\end{tabular}\n"
      ],
      "text/markdown": [
       "\n",
       "Fac | n | \n",
       "|---|---|---|---|---|---|---|---|---|\n",
       "| D1 | 33 | \n",
       "| D2 | 33 | \n",
       "| D3 | 33 | \n",
       "| D4 | 33 | \n",
       "| D5 | 33 | \n",
       "| D6 | 33 | \n",
       "| I1 | 33 | \n",
       "| R1 | 33 | \n",
       "| R2 | 33 | \n",
       "\n",
       "\n"
      ],
      "text/plain": [
       "  Fac n \n",
       "1 D1  33\n",
       "2 D2  33\n",
       "3 D3  33\n",
       "4 D4  33\n",
       "5 D5  33\n",
       "6 D6  33\n",
       "7 I1  33\n",
       "8 R1  33\n",
       "9 R2  33"
      ]
     },
     "metadata": {},
     "output_type": "display_data"
    },
    {
     "data": {
      "text/html": [
       "<table>\n",
       "<thead><tr><th scope=col>B_A</th><th scope=col>n</th></tr></thead>\n",
       "<tbody>\n",
       "\t<tr><td>After </td><td>125   </td></tr>\n",
       "\t<tr><td>Before</td><td>172   </td></tr>\n",
       "</tbody>\n",
       "</table>\n"
      ],
      "text/latex": [
       "\\begin{tabular}{r|ll}\n",
       " B\\_A & n\\\\\n",
       "\\hline\n",
       "\t After  & 125   \\\\\n",
       "\t Before & 172   \\\\\n",
       "\\end{tabular}\n"
      ],
      "text/markdown": [
       "\n",
       "B_A | n | \n",
       "|---|---|\n",
       "| After  | 125    | \n",
       "| Before | 172    | \n",
       "\n",
       "\n"
      ],
      "text/plain": [
       "  B_A    n  \n",
       "1 After  125\n",
       "2 Before 172"
      ]
     },
     "metadata": {},
     "output_type": "display_data"
    },
    {
     "data": {
      "text/html": [
       "<table>\n",
       "<thead><tr><th scope=col>MAE</th><th scope=col>n</th></tr></thead>\n",
       "<tbody>\n",
       "\t<tr><td> 0 </td><td>154</td></tr>\n",
       "\t<tr><td> 1 </td><td> 77</td></tr>\n",
       "\t<tr><td> 2 </td><td> 40</td></tr>\n",
       "\t<tr><td> 3 </td><td> 11</td></tr>\n",
       "\t<tr><td> 4 </td><td>  6</td></tr>\n",
       "\t<tr><td> 5 </td><td>  5</td></tr>\n",
       "\t<tr><td> 6 </td><td>  1</td></tr>\n",
       "\t<tr><td> 7 </td><td>  2</td></tr>\n",
       "\t<tr><td>25 </td><td>  1</td></tr>\n",
       "</tbody>\n",
       "</table>\n"
      ],
      "text/latex": [
       "\\begin{tabular}{r|ll}\n",
       " MAE & n\\\\\n",
       "\\hline\n",
       "\t  0  & 154\\\\\n",
       "\t  1  &  77\\\\\n",
       "\t  2  &  40\\\\\n",
       "\t  3  &  11\\\\\n",
       "\t  4  &   6\\\\\n",
       "\t  5  &   5\\\\\n",
       "\t  6  &   1\\\\\n",
       "\t  7  &   2\\\\\n",
       "\t 25  &   1\\\\\n",
       "\\end{tabular}\n"
      ],
      "text/markdown": [
       "\n",
       "MAE | n | \n",
       "|---|---|---|---|---|---|---|---|---|\n",
       "|  0  | 154 | \n",
       "|  1  |  77 | \n",
       "|  2  |  40 | \n",
       "|  3  |  11 | \n",
       "|  4  |   6 | \n",
       "|  5  |   5 | \n",
       "|  6  |   1 | \n",
       "|  7  |   2 | \n",
       "| 25  |   1 | \n",
       "\n",
       "\n"
      ],
      "text/plain": [
       "  MAE n  \n",
       "1  0  154\n",
       "2  1   77\n",
       "3  2   40\n",
       "4  3   11\n",
       "5  4    6\n",
       "6  5    5\n",
       "7  6    1\n",
       "8  7    2\n",
       "9 25    1"
      ]
     },
     "metadata": {},
     "output_type": "display_data"
    },
    {
     "data": {
      "text/html": [
       "<table>\n",
       "<thead><tr><th scope=col>Care Level</th><th scope=col>n</th></tr></thead>\n",
       "<tbody>\n",
       "\t<tr><td>Dementia    </td><td>198         </td></tr>\n",
       "\t<tr><td>Intellectual</td><td> 33         </td></tr>\n",
       "\t<tr><td>Rest Home   </td><td> 66         </td></tr>\n",
       "</tbody>\n",
       "</table>\n"
      ],
      "text/latex": [
       "\\begin{tabular}{r|ll}\n",
       " Care Level & n\\\\\n",
       "\\hline\n",
       "\t Dementia     & 198         \\\\\n",
       "\t Intellectual &  33         \\\\\n",
       "\t Rest Home    &  66         \\\\\n",
       "\\end{tabular}\n"
      ],
      "text/markdown": [
       "\n",
       "Care Level | n | \n",
       "|---|---|---|\n",
       "| Dementia     | 198          | \n",
       "| Intellectual |  33          | \n",
       "| Rest Home    |  66          | \n",
       "\n",
       "\n"
      ],
      "text/plain": [
       "  Care Level   n  \n",
       "1 Dementia     198\n",
       "2 Intellectual  33\n",
       "3 Rest Home     66"
      ]
     },
     "metadata": {},
     "output_type": "display_data"
    }
   ],
   "source": [
    "# Different counts\n",
    "maedata %>%\n",
    " count(Fac) # distribution for dementia (D*), Intellectual disability (I*), and Residential care (R*)\n",
    "maedata %>%\n",
    " count(B_A) # Before introduction of EMSS and After introduction of EMSS\n",
    "maedata %>%\n",
    " count(MAE) # total count of MAE\n",
    "maedata %>%\n",
    " count(`Care Level`) # Levels of care, dementia/intellectual/rest home"
   ]
  },
  {
   "cell_type": "code",
   "execution_count": 103,
   "metadata": {},
   "outputs": [
    {
     "data": {
      "text/html": [
       "<table>\n",
       "<thead><tr><th scope=col>MAE</th><th scope=col>After</th><th scope=col>Before</th></tr></thead>\n",
       "<tbody>\n",
       "\t<tr><td> 0</td><td>67</td><td>87</td></tr>\n",
       "\t<tr><td> 1</td><td>31</td><td>46</td></tr>\n",
       "\t<tr><td> 2</td><td>18</td><td>22</td></tr>\n",
       "\t<tr><td> 3</td><td> 3</td><td> 8</td></tr>\n",
       "\t<tr><td> 4</td><td> 3</td><td> 3</td></tr>\n",
       "\t<tr><td> 5</td><td> 1</td><td> 4</td></tr>\n",
       "\t<tr><td> 6</td><td>NA</td><td> 1</td></tr>\n",
       "\t<tr><td> 7</td><td> 1</td><td> 1</td></tr>\n",
       "\t<tr><td>25</td><td> 1</td><td>NA</td></tr>\n",
       "</tbody>\n",
       "</table>\n"
      ],
      "text/latex": [
       "\\begin{tabular}{r|lll}\n",
       " MAE & After & Before\\\\\n",
       "\\hline\n",
       "\t  0 & 67 & 87\\\\\n",
       "\t  1 & 31 & 46\\\\\n",
       "\t  2 & 18 & 22\\\\\n",
       "\t  3 &  3 &  8\\\\\n",
       "\t  4 &  3 &  3\\\\\n",
       "\t  5 &  1 &  4\\\\\n",
       "\t  6 & NA &  1\\\\\n",
       "\t  7 &  1 &  1\\\\\n",
       "\t 25 &  1 & NA\\\\\n",
       "\\end{tabular}\n"
      ],
      "text/markdown": [
       "\n",
       "MAE | After | Before | \n",
       "|---|---|---|---|---|---|---|---|---|\n",
       "|  0 | 67 | 87 | \n",
       "|  1 | 31 | 46 | \n",
       "|  2 | 18 | 22 | \n",
       "|  3 |  3 |  8 | \n",
       "|  4 |  3 |  3 | \n",
       "|  5 |  1 |  4 | \n",
       "|  6 | NA |  1 | \n",
       "|  7 |  1 |  1 | \n",
       "| 25 |  1 | NA | \n",
       "\n",
       "\n"
      ],
      "text/plain": [
       "  MAE After Before\n",
       "1  0  67    87    \n",
       "2  1  31    46    \n",
       "3  2  18    22    \n",
       "4  3   3     8    \n",
       "5  4   3     3    \n",
       "6  5   1     4    \n",
       "7  6  NA     1    \n",
       "8  7   1     1    \n",
       "9 25   1    NA    "
      ]
     },
     "metadata": {},
     "output_type": "display_data"
    }
   ],
   "source": [
    "# errors by intervention (before after)\n",
    "prelims = maedata %>%\n",
    " count(MAE, B_A) %>%\n",
    " spread(B_A, n)\n",
    "prelims"
   ]
  },
  {
   "cell_type": "code",
   "execution_count": 105,
   "metadata": {},
   "outputs": [],
   "source": [
    "# Add a new variable mae_cat\n",
    "# categorisation of mae to 4 categories, 0, 1, 2, 3, 4 or more\n",
    "maedata1 = maedata %>%\n",
    "            mutate(mae_cat = if_else(MAE %in% 0, 0, if_else(MAE %in% 1, 1, if_else(MAE %in% 2, 2, \n",
    "                                                                                  if_else(MAE %in% 3, 3, 4)) )))"
   ]
  },
  {
   "cell_type": "code",
   "execution_count": 107,
   "metadata": {},
   "outputs": [
    {
     "data": {
      "text/html": [
       "<table>\n",
       "<thead><tr><th scope=col>mae_cat</th><th scope=col>Care Level</th><th scope=col>After</th><th scope=col>Before</th><th scope=col>afpct</th><th scope=col>befpct</th><th scope=col>pct_reductions</th></tr></thead>\n",
       "<tbody>\n",
       "\t<tr><td>0           </td><td>Dementia    </td><td>48          </td><td>62          </td><td>NA          </td><td>NA          </td><td>22.58065    </td></tr>\n",
       "\t<tr><td>0           </td><td>Intellectual</td><td> 4          </td><td> 8          </td><td>NA          </td><td>NA          </td><td>50.00000    </td></tr>\n",
       "\t<tr><td>0           </td><td>Rest Home   </td><td>15          </td><td>17          </td><td>NA          </td><td>NA          </td><td>11.76471    </td></tr>\n",
       "\t<tr><td>1           </td><td>Dementia    </td><td>18          </td><td>30          </td><td>NA          </td><td>NA          </td><td>40.00000    </td></tr>\n",
       "\t<tr><td>1           </td><td>Intellectual</td><td> 5          </td><td> 8          </td><td>NA          </td><td>NA          </td><td>37.50000    </td></tr>\n",
       "\t<tr><td>1           </td><td>Rest Home   </td><td> 8          </td><td> 8          </td><td>NA          </td><td>NA          </td><td> 0.00000    </td></tr>\n",
       "\t<tr><td>2           </td><td>Dementia    </td><td>11          </td><td>13          </td><td>NA          </td><td>NA          </td><td>15.38462    </td></tr>\n",
       "\t<tr><td>2           </td><td>Intellectual</td><td> 2          </td><td> 3          </td><td>NA          </td><td>NA          </td><td>33.33333    </td></tr>\n",
       "\t<tr><td>2           </td><td>Rest Home   </td><td> 5          </td><td> 6          </td><td>NA          </td><td>NA          </td><td>16.66667    </td></tr>\n",
       "\t<tr><td>3           </td><td>Dementia    </td><td> 2          </td><td> 4          </td><td>NA          </td><td>NA          </td><td>50.00000    </td></tr>\n",
       "\t<tr><td>3           </td><td>Intellectual</td><td>NA          </td><td> 1          </td><td>NA          </td><td>NA          </td><td>      NA    </td></tr>\n",
       "\t<tr><td>3           </td><td>Rest Home   </td><td> 1          </td><td> 3          </td><td>NA          </td><td>NA          </td><td>66.66667    </td></tr>\n",
       "\t<tr><td>4           </td><td>Dementia    </td><td> 4          </td><td> 6          </td><td>NA          </td><td>NA          </td><td>33.33333    </td></tr>\n",
       "\t<tr><td>4           </td><td>Intellectual</td><td> 2          </td><td>NA          </td><td>NA          </td><td>NA          </td><td>      NA    </td></tr>\n",
       "\t<tr><td>4           </td><td>Rest Home   </td><td>NA          </td><td> 3          </td><td>NA          </td><td>NA          </td><td>      NA    </td></tr>\n",
       "</tbody>\n",
       "</table>\n"
      ],
      "text/latex": [
       "\\begin{tabular}{r|lllllll}\n",
       " mae\\_cat & Care Level & After & Before & afpct & befpct & pct\\_reductions\\\\\n",
       "\\hline\n",
       "\t 0            & Dementia     & 48           & 62           & NA           & NA           & 22.58065    \\\\\n",
       "\t 0            & Intellectual &  4           &  8           & NA           & NA           & 50.00000    \\\\\n",
       "\t 0            & Rest Home    & 15           & 17           & NA           & NA           & 11.76471    \\\\\n",
       "\t 1            & Dementia     & 18           & 30           & NA           & NA           & 40.00000    \\\\\n",
       "\t 1            & Intellectual &  5           &  8           & NA           & NA           & 37.50000    \\\\\n",
       "\t 1            & Rest Home    &  8           &  8           & NA           & NA           &  0.00000    \\\\\n",
       "\t 2            & Dementia     & 11           & 13           & NA           & NA           & 15.38462    \\\\\n",
       "\t 2            & Intellectual &  2           &  3           & NA           & NA           & 33.33333    \\\\\n",
       "\t 2            & Rest Home    &  5           &  6           & NA           & NA           & 16.66667    \\\\\n",
       "\t 3            & Dementia     &  2           &  4           & NA           & NA           & 50.00000    \\\\\n",
       "\t 3            & Intellectual & NA           &  1           & NA           & NA           &       NA    \\\\\n",
       "\t 3            & Rest Home    &  1           &  3           & NA           & NA           & 66.66667    \\\\\n",
       "\t 4            & Dementia     &  4           &  6           & NA           & NA           & 33.33333    \\\\\n",
       "\t 4            & Intellectual &  2           & NA           & NA           & NA           &       NA    \\\\\n",
       "\t 4            & Rest Home    & NA           &  3           & NA           & NA           &       NA    \\\\\n",
       "\\end{tabular}\n"
      ],
      "text/markdown": [
       "\n",
       "mae_cat | Care Level | After | Before | afpct | befpct | pct_reductions | \n",
       "|---|---|---|---|---|---|---|---|---|---|---|---|---|---|---|\n",
       "| 0            | Dementia     | 48           | 62           | NA           | NA           | 22.58065     | \n",
       "| 0            | Intellectual |  4           |  8           | NA           | NA           | 50.00000     | \n",
       "| 0            | Rest Home    | 15           | 17           | NA           | NA           | 11.76471     | \n",
       "| 1            | Dementia     | 18           | 30           | NA           | NA           | 40.00000     | \n",
       "| 1            | Intellectual |  5           |  8           | NA           | NA           | 37.50000     | \n",
       "| 1            | Rest Home    |  8           |  8           | NA           | NA           |  0.00000     | \n",
       "| 2            | Dementia     | 11           | 13           | NA           | NA           | 15.38462     | \n",
       "| 2            | Intellectual |  2           |  3           | NA           | NA           | 33.33333     | \n",
       "| 2            | Rest Home    |  5           |  6           | NA           | NA           | 16.66667     | \n",
       "| 3            | Dementia     |  2           |  4           | NA           | NA           | 50.00000     | \n",
       "| 3            | Intellectual | NA           |  1           | NA           | NA           |       NA     | \n",
       "| 3            | Rest Home    |  1           |  3           | NA           | NA           | 66.66667     | \n",
       "| 4            | Dementia     |  4           |  6           | NA           | NA           | 33.33333     | \n",
       "| 4            | Intellectual |  2           | NA           | NA           | NA           |       NA     | \n",
       "| 4            | Rest Home    | NA           |  3           | NA           | NA           |       NA     | \n",
       "\n",
       "\n"
      ],
      "text/plain": [
       "   mae_cat Care Level   After Before afpct befpct pct_reductions\n",
       "1  0       Dementia     48    62     NA    NA     22.58065      \n",
       "2  0       Intellectual  4     8     NA    NA     50.00000      \n",
       "3  0       Rest Home    15    17     NA    NA     11.76471      \n",
       "4  1       Dementia     18    30     NA    NA     40.00000      \n",
       "5  1       Intellectual  5     8     NA    NA     37.50000      \n",
       "6  1       Rest Home     8     8     NA    NA      0.00000      \n",
       "7  2       Dementia     11    13     NA    NA     15.38462      \n",
       "8  2       Intellectual  2     3     NA    NA     33.33333      \n",
       "9  2       Rest Home     5     6     NA    NA     16.66667      \n",
       "10 3       Dementia      2     4     NA    NA     50.00000      \n",
       "11 3       Intellectual NA     1     NA    NA           NA      \n",
       "12 3       Rest Home     1     3     NA    NA     66.66667      \n",
       "13 4       Dementia      4     6     NA    NA     33.33333      \n",
       "14 4       Intellectual  2    NA     NA    NA           NA      \n",
       "15 4       Rest Home    NA     3     NA    NA           NA      "
      ]
     },
     "metadata": {},
     "output_type": "display_data"
    }
   ],
   "source": [
    "# Compare the percentages\n",
    "comparisons = maedata1 %>%\n",
    " count(mae_cat, B_A, `Care Level`) %>%\n",
    " spread(B_A, n) %>%\n",
    " \n",
    " mutate(afpct = After/sum(After + Before),\n",
    "       befpct = Before/sum(After + Before),\n",
    "       pct_reductions = (Before - After)*100/Before )\n",
    "comparisons"
   ]
  },
  {
   "cell_type": "code",
   "execution_count": 37,
   "metadata": {},
   "outputs": [
    {
     "data": {},
     "metadata": {},
     "output_type": "display_data"
    },
    {
     "data": {
      "image/png": "[encoded data removed]",
      "text/plain": [
       "plot without title"
      ]
     },
     "metadata": {},
     "output_type": "display_data"
    }
   ],
   "source": [
    "comparisons %>%\n",
    " ggplot(aes(x = mae_cat, y = pct_reductions)) +\n",
    " geom_bar(stat = \"identity\")"
   ]
  },
  {
   "cell_type": "code",
   "execution_count": 40,
   "metadata": {},
   "outputs": [
    {
     "data": {
      "text/html": [
       "<table>\n",
       "<thead><tr><th scope=col>Date</th><th scope=col>summed_mae</th></tr></thead>\n",
       "<tbody>\n",
       "\t<tr><td>Oct-17</td><td> 0    </td></tr>\n",
       "\t<tr><td>Sep-17</td><td> 0    </td></tr>\n",
       "\t<tr><td>Dec-47</td><td> 1    </td></tr>\n",
       "\t<tr><td>Nov-16</td><td> 1    </td></tr>\n",
       "\t<tr><td>May-18</td><td> 3    </td></tr>\n",
       "\t<tr><td>Oct-16</td><td> 3    </td></tr>\n",
       "\t<tr><td>Apr-16</td><td> 4    </td></tr>\n",
       "\t<tr><td>Aug-17</td><td> 4    </td></tr>\n",
       "\t<tr><td>Jul-17</td><td> 4    </td></tr>\n",
       "\t<tr><td>Mar-17</td><td> 4    </td></tr>\n",
       "\t<tr><td>Nov-18</td><td> 4    </td></tr>\n",
       "\t<tr><td>Dec-17</td><td> 5    </td></tr>\n",
       "\t<tr><td>Nov-17</td><td> 5    </td></tr>\n",
       "\t<tr><td>Dec-18</td><td> 6    </td></tr>\n",
       "\t<tr><td>Jul-16</td><td> 6    </td></tr>\n",
       "\t<tr><td>Mar-16</td><td> 6    </td></tr>\n",
       "\t<tr><td>Jul-18</td><td> 7    </td></tr>\n",
       "\t<tr><td>Jun-17</td><td> 7    </td></tr>\n",
       "\t<tr><td>May-16</td><td> 7    </td></tr>\n",
       "\t<tr><td>Oct-18</td><td> 7    </td></tr>\n",
       "\t<tr><td>Sep-16</td><td> 7    </td></tr>\n",
       "\t<tr><td>Sep-18</td><td> 7    </td></tr>\n",
       "\t<tr><td>Dec-16</td><td> 8    </td></tr>\n",
       "\t<tr><td>Jan-16</td><td> 8    </td></tr>\n",
       "\t<tr><td>Jun-18</td><td> 8    </td></tr>\n",
       "\t<tr><td>Apr-17</td><td> 9    </td></tr>\n",
       "\t<tr><td>Aug-18</td><td> 9    </td></tr>\n",
       "\t<tr><td>Jan-18</td><td> 9    </td></tr>\n",
       "\t<tr><td>Feb-16</td><td>11    </td></tr>\n",
       "\t<tr><td>Feb-18</td><td>11    </td></tr>\n",
       "\t<tr><td>Aug-16</td><td>12    </td></tr>\n",
       "\t<tr><td>Jan-17</td><td>12    </td></tr>\n",
       "\t<tr><td>Feb-17</td><td>13    </td></tr>\n",
       "\t<tr><td>Mar-18</td><td>13    </td></tr>\n",
       "\t<tr><td>Jun-16</td><td>14    </td></tr>\n",
       "\t<tr><td>May-17</td><td>19    </td></tr>\n",
       "\t<tr><td>Apr-18</td><td>30    </td></tr>\n",
       "</tbody>\n",
       "</table>\n"
      ],
      "text/latex": [
       "\\begin{tabular}{r|ll}\n",
       " Date & summed\\_mae\\\\\n",
       "\\hline\n",
       "\t Oct-17 &  0    \\\\\n",
       "\t Sep-17 &  0    \\\\\n",
       "\t Dec-47 &  1    \\\\\n",
       "\t Nov-16 &  1    \\\\\n",
       "\t May-18 &  3    \\\\\n",
       "\t Oct-16 &  3    \\\\\n",
       "\t Apr-16 &  4    \\\\\n",
       "\t Aug-17 &  4    \\\\\n",
       "\t Jul-17 &  4    \\\\\n",
       "\t Mar-17 &  4    \\\\\n",
       "\t Nov-18 &  4    \\\\\n",
       "\t Dec-17 &  5    \\\\\n",
       "\t Nov-17 &  5    \\\\\n",
       "\t Dec-18 &  6    \\\\\n",
       "\t Jul-16 &  6    \\\\\n",
       "\t Mar-16 &  6    \\\\\n",
       "\t Jul-18 &  7    \\\\\n",
       "\t Jun-17 &  7    \\\\\n",
       "\t May-16 &  7    \\\\\n",
       "\t Oct-18 &  7    \\\\\n",
       "\t Sep-16 &  7    \\\\\n",
       "\t Sep-18 &  7    \\\\\n",
       "\t Dec-16 &  8    \\\\\n",
       "\t Jan-16 &  8    \\\\\n",
       "\t Jun-18 &  8    \\\\\n",
       "\t Apr-17 &  9    \\\\\n",
       "\t Aug-18 &  9    \\\\\n",
       "\t Jan-18 &  9    \\\\\n",
       "\t Feb-16 & 11    \\\\\n",
       "\t Feb-18 & 11    \\\\\n",
       "\t Aug-16 & 12    \\\\\n",
       "\t Jan-17 & 12    \\\\\n",
       "\t Feb-17 & 13    \\\\\n",
       "\t Mar-18 & 13    \\\\\n",
       "\t Jun-16 & 14    \\\\\n",
       "\t May-17 & 19    \\\\\n",
       "\t Apr-18 & 30    \\\\\n",
       "\\end{tabular}\n"
      ],
      "text/markdown": [
       "\n",
       "Date | summed_mae | \n",
       "|---|---|---|---|---|---|---|---|---|---|---|---|---|---|---|---|---|---|---|---|---|---|---|---|---|---|---|---|---|---|---|---|---|---|---|---|---|\n",
       "| Oct-17 |  0     | \n",
       "| Sep-17 |  0     | \n",
       "| Dec-47 |  1     | \n",
       "| Nov-16 |  1     | \n",
       "| May-18 |  3     | \n",
       "| Oct-16 |  3     | \n",
       "| Apr-16 |  4     | \n",
       "| Aug-17 |  4     | \n",
       "| Jul-17 |  4     | \n",
       "| Mar-17 |  4     | \n",
       "| Nov-18 |  4     | \n",
       "| Dec-17 |  5     | \n",
       "| Nov-17 |  5     | \n",
       "| Dec-18 |  6     | \n",
       "| Jul-16 |  6     | \n",
       "| Mar-16 |  6     | \n",
       "| Jul-18 |  7     | \n",
       "| Jun-17 |  7     | \n",
       "| May-16 |  7     | \n",
       "| Oct-18 |  7     | \n",
       "| Sep-16 |  7     | \n",
       "| Sep-18 |  7     | \n",
       "| Dec-16 |  8     | \n",
       "| Jan-16 |  8     | \n",
       "| Jun-18 |  8     | \n",
       "| Apr-17 |  9     | \n",
       "| Aug-18 |  9     | \n",
       "| Jan-18 |  9     | \n",
       "| Feb-16 | 11     | \n",
       "| Feb-18 | 11     | \n",
       "| Aug-16 | 12     | \n",
       "| Jan-17 | 12     | \n",
       "| Feb-17 | 13     | \n",
       "| Mar-18 | 13     | \n",
       "| Jun-16 | 14     | \n",
       "| May-17 | 19     | \n",
       "| Apr-18 | 30     | \n",
       "\n",
       "\n"
      ],
      "text/plain": [
       "   Date   summed_mae\n",
       "1  Oct-17  0        \n",
       "2  Sep-17  0        \n",
       "3  Dec-47  1        \n",
       "4  Nov-16  1        \n",
       "5  May-18  3        \n",
       "6  Oct-16  3        \n",
       "7  Apr-16  4        \n",
       "8  Aug-17  4        \n",
       "9  Jul-17  4        \n",
       "10 Mar-17  4        \n",
       "11 Nov-18  4        \n",
       "12 Dec-17  5        \n",
       "13 Nov-17  5        \n",
       "14 Dec-18  6        \n",
       "15 Jul-16  6        \n",
       "16 Mar-16  6        \n",
       "17 Jul-18  7        \n",
       "18 Jun-17  7        \n",
       "19 May-16  7        \n",
       "20 Oct-18  7        \n",
       "21 Sep-16  7        \n",
       "22 Sep-18  7        \n",
       "23 Dec-16  8        \n",
       "24 Jan-16  8        \n",
       "25 Jun-18  8        \n",
       "26 Apr-17  9        \n",
       "27 Aug-18  9        \n",
       "28 Jan-18  9        \n",
       "29 Feb-16 11        \n",
       "30 Feb-18 11        \n",
       "31 Aug-16 12        \n",
       "32 Jan-17 12        \n",
       "33 Feb-17 13        \n",
       "34 Mar-18 13        \n",
       "35 Jun-16 14        \n",
       "36 May-17 19        \n",
       "37 Apr-18 30        "
      ]
     },
     "metadata": {},
     "output_type": "display_data"
    }
   ],
   "source": [
    "# date time exploration\n",
    "maedata %>%\n",
    " group_by(Date) %>%\n",
    " summarise(summed_mae = sum(MAE)) %>%\n",
    " arrange(summed_mae)"
   ]
  },
  {
   "cell_type": "code",
   "execution_count": 41,
   "metadata": {},
   "outputs": [
    {
     "name": "stderr",
     "output_type": "stream",
     "text": [
      "\n",
      "Attaching package: ‘lubridate’\n",
      "\n",
      "The following object is masked from ‘package:base’:\n",
      "\n",
      "    date\n",
      "\n"
     ]
    }
   ],
   "source": [
    "library(lubridate) # attach a date time data manipulation pacakge"
   ]
  },
  {
   "cell_type": "code",
   "execution_count": 95,
   "metadata": {},
   "outputs": [],
   "source": [
    "# convert the Date variable to a proper date/time variable\n",
    "# set the day to 15th or middle of the month (arbitrary choice)\n",
    "maedata1 = maedata %>%\n",
    "mutate(monthyr = dmy(paste(\"15-\", Date, sep = \"\")))"
   ]
  },
  {
   "cell_type": "code",
   "execution_count": 101,
   "metadata": {},
   "outputs": [
    {
     "data": {
      "text/html": [
       "<table>\n",
       "<thead><tr><th scope=col>monthyr</th><th scope=col>B_A</th><th scope=col>Dementia</th><th scope=col>Intellectual</th><th scope=col>Rest Home</th></tr></thead>\n",
       "<tbody>\n",
       "\t<tr><td>2016-01-15</td><td>Before    </td><td> 5        </td><td> 1        </td><td> 2        </td></tr>\n",
       "\t<tr><td>2016-02-15</td><td>Before    </td><td> 7        </td><td> 1        </td><td> 3        </td></tr>\n",
       "\t<tr><td>2016-03-15</td><td>Before    </td><td> 4        </td><td> 0        </td><td> 2        </td></tr>\n",
       "\t<tr><td>2016-04-15</td><td>Before    </td><td> 4        </td><td> 0        </td><td> 0        </td></tr>\n",
       "\t<tr><td>2016-05-15</td><td>Before    </td><td> 5        </td><td> 0        </td><td> 2        </td></tr>\n",
       "\t<tr><td>2016-06-15</td><td>Before    </td><td> 9        </td><td> 2        </td><td> 3        </td></tr>\n",
       "\t<tr><td>2016-07-15</td><td>Before    </td><td> 5        </td><td> 0        </td><td> 1        </td></tr>\n",
       "\t<tr><td>2016-08-15</td><td>Before    </td><td> 4        </td><td> 0        </td><td> 8        </td></tr>\n",
       "\t<tr><td>2016-09-15</td><td>Before    </td><td> 2        </td><td> 2        </td><td> 3        </td></tr>\n",
       "\t<tr><td>2016-10-15</td><td>Before    </td><td> 2        </td><td> 1        </td><td> 0        </td></tr>\n",
       "\t<tr><td>2016-11-15</td><td>Before    </td><td> 1        </td><td> 0        </td><td> 0        </td></tr>\n",
       "\t<tr><td>2016-12-15</td><td>Before    </td><td> 7        </td><td> 1        </td><td> 0        </td></tr>\n",
       "\t<tr><td>2017-01-15</td><td>Before    </td><td> 6        </td><td> 1        </td><td> 5        </td></tr>\n",
       "\t<tr><td>2017-02-15</td><td>Before    </td><td> 7        </td><td> 1        </td><td> 5        </td></tr>\n",
       "\t<tr><td>2017-03-15</td><td>Before    </td><td> 3        </td><td> 1        </td><td> 0        </td></tr>\n",
       "\t<tr><td>2017-04-15</td><td>Before    </td><td> 8        </td><td> 0        </td><td> 1        </td></tr>\n",
       "\t<tr><td>2017-05-15</td><td>Before    </td><td>12        </td><td> 3        </td><td> 4        </td></tr>\n",
       "\t<tr><td>2017-06-15</td><td>Before    </td><td> 2        </td><td> 1        </td><td> 4        </td></tr>\n",
       "\t<tr><td>2017-07-15</td><td>Before    </td><td> 4        </td><td> 0        </td><td> 0        </td></tr>\n",
       "\t<tr><td>2017-08-15</td><td>Before    </td><td> 2        </td><td> 2        </td><td>NA        </td></tr>\n",
       "\t<tr><td>2017-09-15</td><td>Before    </td><td> 0        </td><td>NA        </td><td>NA        </td></tr>\n",
       "\t<tr><td>2017-10-15</td><td>After     </td><td> 0        </td><td>NA        </td><td> 0        </td></tr>\n",
       "\t<tr><td>2017-11-15</td><td>After     </td><td> 0        </td><td>NA        </td><td> 5        </td></tr>\n",
       "\t<tr><td>2017-12-15</td><td>After     </td><td> 4        </td><td> 1        </td><td> 0        </td></tr>\n",
       "\t<tr><td>2018-01-15</td><td>After     </td><td> 5        </td><td> 0        </td><td> 4        </td></tr>\n",
       "\t<tr><td>2018-02-15</td><td>After     </td><td> 8        </td><td> 2        </td><td> 1        </td></tr>\n",
       "\t<tr><td>2018-03-15</td><td>After     </td><td> 5        </td><td> 7        </td><td> 1        </td></tr>\n",
       "\t<tr><td>2018-05-15</td><td>After     </td><td> 2        </td><td> 1        </td><td> 0        </td></tr>\n",
       "\t<tr><td>2018-06-15</td><td>After     </td><td> 6        </td><td> 1        </td><td> 1        </td></tr>\n",
       "\t<tr><td>2018-07-15</td><td>After     </td><td> 7        </td><td> 0        </td><td> 0        </td></tr>\n",
       "\t<tr><td>2018-08-15</td><td>After     </td><td> 8        </td><td> 0        </td><td> 1        </td></tr>\n",
       "\t<tr><td>2018-09-15</td><td>After     </td><td> 4        </td><td> 1        </td><td> 2        </td></tr>\n",
       "\t<tr><td>2018-10-15</td><td>After     </td><td> 4        </td><td> 2        </td><td> 1        </td></tr>\n",
       "\t<tr><td>2018-11-15</td><td>After     </td><td> 4        </td><td> 0        </td><td> 0        </td></tr>\n",
       "\t<tr><td>2018-12-15</td><td>After     </td><td> 2        </td><td> 1        </td><td> 3        </td></tr>\n",
       "</tbody>\n",
       "</table>\n"
      ],
      "text/latex": [
       "\\begin{tabular}{r|lllll}\n",
       " monthyr & B\\_A & Dementia & Intellectual & Rest Home\\\\\n",
       "\\hline\n",
       "\t 2016-01-15 & Before     &  5         &  1         &  2        \\\\\n",
       "\t 2016-02-15 & Before     &  7         &  1         &  3        \\\\\n",
       "\t 2016-03-15 & Before     &  4         &  0         &  2        \\\\\n",
       "\t 2016-04-15 & Before     &  4         &  0         &  0        \\\\\n",
       "\t 2016-05-15 & Before     &  5         &  0         &  2        \\\\\n",
       "\t 2016-06-15 & Before     &  9         &  2         &  3        \\\\\n",
       "\t 2016-07-15 & Before     &  5         &  0         &  1        \\\\\n",
       "\t 2016-08-15 & Before     &  4         &  0         &  8        \\\\\n",
       "\t 2016-09-15 & Before     &  2         &  2         &  3        \\\\\n",
       "\t 2016-10-15 & Before     &  2         &  1         &  0        \\\\\n",
       "\t 2016-11-15 & Before     &  1         &  0         &  0        \\\\\n",
       "\t 2016-12-15 & Before     &  7         &  1         &  0        \\\\\n",
       "\t 2017-01-15 & Before     &  6         &  1         &  5        \\\\\n",
       "\t 2017-02-15 & Before     &  7         &  1         &  5        \\\\\n",
       "\t 2017-03-15 & Before     &  3         &  1         &  0        \\\\\n",
       "\t 2017-04-15 & Before     &  8         &  0         &  1        \\\\\n",
       "\t 2017-05-15 & Before     & 12         &  3         &  4        \\\\\n",
       "\t 2017-06-15 & Before     &  2         &  1         &  4        \\\\\n",
       "\t 2017-07-15 & Before     &  4         &  0         &  0        \\\\\n",
       "\t 2017-08-15 & Before     &  2         &  2         & NA        \\\\\n",
       "\t 2017-09-15 & Before     &  0         & NA         & NA        \\\\\n",
       "\t 2017-10-15 & After      &  0         & NA         &  0        \\\\\n",
       "\t 2017-11-15 & After      &  0         & NA         &  5        \\\\\n",
       "\t 2017-12-15 & After      &  4         &  1         &  0        \\\\\n",
       "\t 2018-01-15 & After      &  5         &  0         &  4        \\\\\n",
       "\t 2018-02-15 & After      &  8         &  2         &  1        \\\\\n",
       "\t 2018-03-15 & After      &  5         &  7         &  1        \\\\\n",
       "\t 2018-05-15 & After      &  2         &  1         &  0        \\\\\n",
       "\t 2018-06-15 & After      &  6         &  1         &  1        \\\\\n",
       "\t 2018-07-15 & After      &  7         &  0         &  0        \\\\\n",
       "\t 2018-08-15 & After      &  8         &  0         &  1        \\\\\n",
       "\t 2018-09-15 & After      &  4         &  1         &  2        \\\\\n",
       "\t 2018-10-15 & After      &  4         &  2         &  1        \\\\\n",
       "\t 2018-11-15 & After      &  4         &  0         &  0        \\\\\n",
       "\t 2018-12-15 & After      &  2         &  1         &  3        \\\\\n",
       "\\end{tabular}\n"
      ],
      "text/markdown": [
       "\n",
       "monthyr | B_A | Dementia | Intellectual | Rest Home | \n",
       "|---|---|---|---|---|---|---|---|---|---|---|---|---|---|---|---|---|---|---|---|---|---|---|---|---|---|---|---|---|---|---|---|---|---|---|\n",
       "| 2016-01-15 | Before     |  5         |  1         |  2         | \n",
       "| 2016-02-15 | Before     |  7         |  1         |  3         | \n",
       "| 2016-03-15 | Before     |  4         |  0         |  2         | \n",
       "| 2016-04-15 | Before     |  4         |  0         |  0         | \n",
       "| 2016-05-15 | Before     |  5         |  0         |  2         | \n",
       "| 2016-06-15 | Before     |  9         |  2         |  3         | \n",
       "| 2016-07-15 | Before     |  5         |  0         |  1         | \n",
       "| 2016-08-15 | Before     |  4         |  0         |  8         | \n",
       "| 2016-09-15 | Before     |  2         |  2         |  3         | \n",
       "| 2016-10-15 | Before     |  2         |  1         |  0         | \n",
       "| 2016-11-15 | Before     |  1         |  0         |  0         | \n",
       "| 2016-12-15 | Before     |  7         |  1         |  0         | \n",
       "| 2017-01-15 | Before     |  6         |  1         |  5         | \n",
       "| 2017-02-15 | Before     |  7         |  1         |  5         | \n",
       "| 2017-03-15 | Before     |  3         |  1         |  0         | \n",
       "| 2017-04-15 | Before     |  8         |  0         |  1         | \n",
       "| 2017-05-15 | Before     | 12         |  3         |  4         | \n",
       "| 2017-06-15 | Before     |  2         |  1         |  4         | \n",
       "| 2017-07-15 | Before     |  4         |  0         |  0         | \n",
       "| 2017-08-15 | Before     |  2         |  2         | NA         | \n",
       "| 2017-09-15 | Before     |  0         | NA         | NA         | \n",
       "| 2017-10-15 | After      |  0         | NA         |  0         | \n",
       "| 2017-11-15 | After      |  0         | NA         |  5         | \n",
       "| 2017-12-15 | After      |  4         |  1         |  0         | \n",
       "| 2018-01-15 | After      |  5         |  0         |  4         | \n",
       "| 2018-02-15 | After      |  8         |  2         |  1         | \n",
       "| 2018-03-15 | After      |  5         |  7         |  1         | \n",
       "| 2018-05-15 | After      |  2         |  1         |  0         | \n",
       "| 2018-06-15 | After      |  6         |  1         |  1         | \n",
       "| 2018-07-15 | After      |  7         |  0         |  0         | \n",
       "| 2018-08-15 | After      |  8         |  0         |  1         | \n",
       "| 2018-09-15 | After      |  4         |  1         |  2         | \n",
       "| 2018-10-15 | After      |  4         |  2         |  1         | \n",
       "| 2018-11-15 | After      |  4         |  0         |  0         | \n",
       "| 2018-12-15 | After      |  2         |  1         |  3         | \n",
       "\n",
       "\n"
      ],
      "text/plain": [
       "   monthyr    B_A    Dementia Intellectual Rest Home\n",
       "1  2016-01-15 Before  5        1            2       \n",
       "2  2016-02-15 Before  7        1            3       \n",
       "3  2016-03-15 Before  4        0            2       \n",
       "4  2016-04-15 Before  4        0            0       \n",
       "5  2016-05-15 Before  5        0            2       \n",
       "6  2016-06-15 Before  9        2            3       \n",
       "7  2016-07-15 Before  5        0            1       \n",
       "8  2016-08-15 Before  4        0            8       \n",
       "9  2016-09-15 Before  2        2            3       \n",
       "10 2016-10-15 Before  2        1            0       \n",
       "11 2016-11-15 Before  1        0            0       \n",
       "12 2016-12-15 Before  7        1            0       \n",
       "13 2017-01-15 Before  6        1            5       \n",
       "14 2017-02-15 Before  7        1            5       \n",
       "15 2017-03-15 Before  3        1            0       \n",
       "16 2017-04-15 Before  8        0            1       \n",
       "17 2017-05-15 Before 12        3            4       \n",
       "18 2017-06-15 Before  2        1            4       \n",
       "19 2017-07-15 Before  4        0            0       \n",
       "20 2017-08-15 Before  2        2           NA       \n",
       "21 2017-09-15 Before  0       NA           NA       \n",
       "22 2017-10-15 After   0       NA            0       \n",
       "23 2017-11-15 After   0       NA            5       \n",
       "24 2017-12-15 After   4        1            0       \n",
       "25 2018-01-15 After   5        0            4       \n",
       "26 2018-02-15 After   8        2            1       \n",
       "27 2018-03-15 After   5        7            1       \n",
       "28 2018-05-15 After   2        1            0       \n",
       "29 2018-06-15 After   6        1            1       \n",
       "30 2018-07-15 After   7        0            0       \n",
       "31 2018-08-15 After   8        0            1       \n",
       "32 2018-09-15 After   4        1            2       \n",
       "33 2018-10-15 After   4        2            1       \n",
       "34 2018-11-15 After   4        0            0       \n",
       "35 2018-12-15 After   2        1            3       "
      ]
     },
     "metadata": {},
     "output_type": "display_data"
    }
   ],
   "source": [
    "mae_by_date = maedata1 %>%\n",
    " group_by(monthyr, B_A, `Care Level`) %>%\n",
    " summarise(summed_mae = sum(MAE)) %>%\n",
    " filter(monthyr != \"2047-12-15\" & monthyr != \"2018-04-15\" ) %>%\n",
    " arrange()\n",
    "\n",
    "mae_by_date_spread = mae_by_date %>%\n",
    "         spread(`Care Level`, summed_mae)\n",
    "mae_by_date_spread"
   ]
  },
  {
   "cell_type": "code",
   "execution_count": 67,
   "metadata": {},
   "outputs": [
    {
     "data": {
      "text/html": [
       "<table>\n",
       "<thead><tr><th scope=col>monthyr</th><th scope=col>B_A</th><th scope=col>summed_mae</th></tr></thead>\n",
       "<tbody>\n",
       "\t<tr><td>2016-02-15</td><td>Before    </td><td>11        </td></tr>\n",
       "\t<tr><td>2016-06-15</td><td>Before    </td><td>14        </td></tr>\n",
       "\t<tr><td>2016-08-15</td><td>Before    </td><td>12        </td></tr>\n",
       "\t<tr><td>2017-01-15</td><td>Before    </td><td>12        </td></tr>\n",
       "\t<tr><td>2017-02-15</td><td>Before    </td><td>13        </td></tr>\n",
       "\t<tr><td>2017-05-15</td><td>Before    </td><td>19        </td></tr>\n",
       "\t<tr><td>2018-02-15</td><td>After     </td><td>11        </td></tr>\n",
       "\t<tr><td>2018-03-15</td><td>After     </td><td>13        </td></tr>\n",
       "\t<tr><td>2018-04-15</td><td>After     </td><td>30        </td></tr>\n",
       "</tbody>\n",
       "</table>\n"
      ],
      "text/latex": [
       "\\begin{tabular}{r|lll}\n",
       " monthyr & B\\_A & summed\\_mae\\\\\n",
       "\\hline\n",
       "\t 2016-02-15 & Before     & 11        \\\\\n",
       "\t 2016-06-15 & Before     & 14        \\\\\n",
       "\t 2016-08-15 & Before     & 12        \\\\\n",
       "\t 2017-01-15 & Before     & 12        \\\\\n",
       "\t 2017-02-15 & Before     & 13        \\\\\n",
       "\t 2017-05-15 & Before     & 19        \\\\\n",
       "\t 2018-02-15 & After      & 11        \\\\\n",
       "\t 2018-03-15 & After      & 13        \\\\\n",
       "\t 2018-04-15 & After      & 30        \\\\\n",
       "\\end{tabular}\n"
      ],
      "text/markdown": [
       "\n",
       "monthyr | B_A | summed_mae | \n",
       "|---|---|---|---|---|---|---|---|---|\n",
       "| 2016-02-15 | Before     | 11         | \n",
       "| 2016-06-15 | Before     | 14         | \n",
       "| 2016-08-15 | Before     | 12         | \n",
       "| 2017-01-15 | Before     | 12         | \n",
       "| 2017-02-15 | Before     | 13         | \n",
       "| 2017-05-15 | Before     | 19         | \n",
       "| 2018-02-15 | After      | 11         | \n",
       "| 2018-03-15 | After      | 13         | \n",
       "| 2018-04-15 | After      | 30         | \n",
       "\n",
       "\n"
      ],
      "text/plain": [
       "  monthyr    B_A    summed_mae\n",
       "1 2016-02-15 Before 11        \n",
       "2 2016-06-15 Before 14        \n",
       "3 2016-08-15 Before 12        \n",
       "4 2017-01-15 Before 12        \n",
       "5 2017-02-15 Before 13        \n",
       "6 2017-05-15 Before 19        \n",
       "7 2018-02-15 After  11        \n",
       "8 2018-03-15 After  13        \n",
       "9 2018-04-15 After  30        "
      ]
     },
     "metadata": {},
     "output_type": "display_data"
    }
   ],
   "source": [
    "peak_errors = mae_by_date %>%\n",
    " filter(summed_mae > 10)\n",
    "\n",
    "peak_errors"
   ]
  },
  {
   "cell_type": "code",
   "execution_count": 99,
   "metadata": {},
   "outputs": [
    {
     "data": {},
     "metadata": {},
     "output_type": "display_data"
    },
    {
     "data": {
      "image/png": "[encoded data removed]",
      "text/plain": [
       "plot without title"
      ]
     },
     "metadata": {},
     "output_type": "display_data"
    }
   ],
   "source": [
    "# Graphically explore the extent to which the \n",
    "# before and after MAEs are affected by types of care\n",
    "# shows drop in dementia and rest home care, jump in intellectual disability care\n",
    "# (uncover the hashtags to see line vs bar plots)\n",
    "\n",
    "mae_by_date %>%\n",
    " ggplot(aes(x = monthyr, y = summed_mae, colour = B_A, fill = B_A)) +\n",
    " geom_bar(stat = \"identity\") + \n",
    " #geom_line(stat = \"identity\") +\n",
    " facet_grid(. ~ `Care Level`) +\n",
    " ylab(\"Total MAE for the month\") +\n",
    " xlab(\"Month/Year\")"
   ]
  },
  {
   "cell_type": "code",
   "execution_count": null,
   "metadata": {},
   "outputs": [],
   "source": []
  }
 ],
 "metadata": {
  "kernelspec": {
   "display_name": "R",
   "language": "R",
   "name": "ir"
  },
  "language_info": {
   "codemirror_mode": "r",
   "file_extension": ".r",
   "mimetype": "text/x-r-source",
   "name": "R",
   "pygments_lexer": "r",
   "version": "3.5.3"
  }
 },
 "nbformat": 4,
 "nbformat_minor": 2
}
